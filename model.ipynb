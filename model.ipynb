{
 "cells": [
  {
   "cell_type": "code",
   "execution_count": 1,
   "metadata": {},
   "outputs": [],
   "source": [
    "import pandas as pd\n",
    "import numpy as np\n",
    "import seaborn as sns\n",
    "from sklearn.impute import SimpleImputer\n",
    "from sklearn.pipeline import Pipeline\n",
    "from sklearn.compose import ColumnTransformer\n",
    "from sklearn.base import TransformerMixin, BaseEstimator, clone\n",
    "import matplotlib.pyplot as plt\n",
    "from sklearn.linear_model import LinearRegression, Ridge, Lasso\n",
    "from category_encoders.target_encoder import TargetEncoder\n",
    "from sklearn.preprocessing import StandardScaler, OneHotEncoder, PowerTransformer, RobustScaler\n",
    "from sklearn.svm import SVR, LinearSVR\n",
    "from sklearn.ensemble import RandomForestRegressor, VotingRegressor, BaggingRegressor, AdaBoostRegressor, GradientBoostingRegressor\n",
    "from sklearn.tree import DecisionTreeRegressor\n",
    "from sklearn.model_selection import GridSearchCV\n",
    "import tensorflow as tf\n",
    "from tensorflow import keras\n",
    "plt.rcParams[\"figure.figsize\"] = (20,15)"
   ]
  },
  {
   "cell_type": "code",
   "execution_count": 2,
   "metadata": {},
   "outputs": [],
   "source": [
    "## Loading data obtained after data cleaning\n",
    "\n",
    "def load_final_data():\n",
    "    x_train = pd.read_csv(\"x_train_final.csv\")\n",
    "    x_val = pd.read_csv(\"x_val_final.csv\")\n",
    "    y_train = pd.read_csv('y_train_final.csv')\n",
    "    y_val = pd.read_csv('y_val_final.csv')\n",
    "    return x_train, y_train['fare_amount'], x_val, y_val['fare_amount']"
   ]
  },
  {
   "cell_type": "code",
   "execution_count": 3,
   "metadata": {},
   "outputs": [],
   "source": [
    "x_train, y_train, x_val, y_val = load_final_data()"
   ]
  },
  {
   "cell_type": "code",
   "execution_count": 4,
   "metadata": {},
   "outputs": [],
   "source": [
    "# impute the Nan values\n",
    "# mode imputing categorical variables and median imputing the numerical "
   ]
  },
  {
   "cell_type": "code",
   "execution_count": 5,
   "metadata": {},
   "outputs": [
    {
     "data": {
      "text/html": [
       "<div>\n",
       "<style scoped>\n",
       "    .dataframe tbody tr th:only-of-type {\n",
       "        vertical-align: middle;\n",
       "    }\n",
       "\n",
       "    .dataframe tbody tr th {\n",
       "        vertical-align: top;\n",
       "    }\n",
       "\n",
       "    .dataframe thead th {\n",
       "        text-align: right;\n",
       "    }\n",
       "</style>\n",
       "<table border=\"1\" class=\"dataframe\">\n",
       "  <thead>\n",
       "    <tr style=\"text-align: right;\">\n",
       "      <th></th>\n",
       "      <th>VendorID</th>\n",
       "      <th>passenger_count</th>\n",
       "      <th>trip_distance</th>\n",
       "      <th>RatecodeID</th>\n",
       "      <th>store_and_fwd_flag</th>\n",
       "      <th>PULocationID</th>\n",
       "      <th>DOLocationID</th>\n",
       "      <th>payment_type</th>\n",
       "      <th>congestion_surcharge</th>\n",
       "      <th>tpep_pickup_datetime</th>\n",
       "      <th>tpep_dropoff_datetime</th>\n",
       "    </tr>\n",
       "  </thead>\n",
       "  <tbody>\n",
       "    <tr>\n",
       "      <th>0</th>\n",
       "      <td>2.0</td>\n",
       "      <td>1.0</td>\n",
       "      <td>7.39</td>\n",
       "      <td>1.0</td>\n",
       "      <td>N</td>\n",
       "      <td>113</td>\n",
       "      <td>129</td>\n",
       "      <td>1.0</td>\n",
       "      <td>2.5</td>\n",
       "      <td>2020-06-11 21:10:27</td>\n",
       "      <td>2020-06-11 21:39:42</td>\n",
       "    </tr>\n",
       "    <tr>\n",
       "      <th>1</th>\n",
       "      <td>2.0</td>\n",
       "      <td>1.0</td>\n",
       "      <td>3.12</td>\n",
       "      <td>1.0</td>\n",
       "      <td>N</td>\n",
       "      <td>140</td>\n",
       "      <td>224</td>\n",
       "      <td>1.0</td>\n",
       "      <td>2.5</td>\n",
       "      <td>2020-06-23 10:28:28</td>\n",
       "      <td>2020-06-23 10:43:48</td>\n",
       "    </tr>\n",
       "    <tr>\n",
       "      <th>2</th>\n",
       "      <td>1.0</td>\n",
       "      <td>2.0</td>\n",
       "      <td>18.80</td>\n",
       "      <td>2.0</td>\n",
       "      <td>N</td>\n",
       "      <td>132</td>\n",
       "      <td>68</td>\n",
       "      <td>1.0</td>\n",
       "      <td>2.5</td>\n",
       "      <td>2020-06-17 16:51:01</td>\n",
       "      <td>2020-06-17 17:27:24</td>\n",
       "    </tr>\n",
       "    <tr>\n",
       "      <th>3</th>\n",
       "      <td>1.0</td>\n",
       "      <td>1.0</td>\n",
       "      <td>5.20</td>\n",
       "      <td>1.0</td>\n",
       "      <td>N</td>\n",
       "      <td>48</td>\n",
       "      <td>116</td>\n",
       "      <td>2.0</td>\n",
       "      <td>2.5</td>\n",
       "      <td>2020-06-07 14:17:39</td>\n",
       "      <td>2020-06-07 14:33:36</td>\n",
       "    </tr>\n",
       "    <tr>\n",
       "      <th>4</th>\n",
       "      <td>2.0</td>\n",
       "      <td>1.0</td>\n",
       "      <td>19.06</td>\n",
       "      <td>1.0</td>\n",
       "      <td>N</td>\n",
       "      <td>77</td>\n",
       "      <td>115</td>\n",
       "      <td>1.0</td>\n",
       "      <td>0.0</td>\n",
       "      <td>2020-06-27 15:23:57</td>\n",
       "      <td>2020-06-27 15:57:13</td>\n",
       "    </tr>\n",
       "    <tr>\n",
       "      <th>...</th>\n",
       "      <td>...</td>\n",
       "      <td>...</td>\n",
       "      <td>...</td>\n",
       "      <td>...</td>\n",
       "      <td>...</td>\n",
       "      <td>...</td>\n",
       "      <td>...</td>\n",
       "      <td>...</td>\n",
       "      <td>...</td>\n",
       "      <td>...</td>\n",
       "      <td>...</td>\n",
       "    </tr>\n",
       "    <tr>\n",
       "      <th>44945</th>\n",
       "      <td>2.0</td>\n",
       "      <td>1.0</td>\n",
       "      <td>1.08</td>\n",
       "      <td>1.0</td>\n",
       "      <td>N</td>\n",
       "      <td>140</td>\n",
       "      <td>43</td>\n",
       "      <td>1.0</td>\n",
       "      <td>2.5</td>\n",
       "      <td>2020-06-27 20:08:24</td>\n",
       "      <td>2020-06-27 20:15:20</td>\n",
       "    </tr>\n",
       "    <tr>\n",
       "      <th>44946</th>\n",
       "      <td>2.0</td>\n",
       "      <td>2.0</td>\n",
       "      <td>1.44</td>\n",
       "      <td>1.0</td>\n",
       "      <td>N</td>\n",
       "      <td>161</td>\n",
       "      <td>143</td>\n",
       "      <td>2.0</td>\n",
       "      <td>2.5</td>\n",
       "      <td>2020-06-26 10:44:25</td>\n",
       "      <td>2020-06-26 10:54:13</td>\n",
       "    </tr>\n",
       "    <tr>\n",
       "      <th>44947</th>\n",
       "      <td>1.0</td>\n",
       "      <td>1.0</td>\n",
       "      <td>6.40</td>\n",
       "      <td>1.0</td>\n",
       "      <td>N</td>\n",
       "      <td>161</td>\n",
       "      <td>116</td>\n",
       "      <td>1.0</td>\n",
       "      <td>2.5</td>\n",
       "      <td>2020-06-22 13:03:40</td>\n",
       "      <td>2020-06-22 13:32:33</td>\n",
       "    </tr>\n",
       "    <tr>\n",
       "      <th>44948</th>\n",
       "      <td>2.0</td>\n",
       "      <td>3.0</td>\n",
       "      <td>1.97</td>\n",
       "      <td>1.0</td>\n",
       "      <td>N</td>\n",
       "      <td>125</td>\n",
       "      <td>68</td>\n",
       "      <td>1.0</td>\n",
       "      <td>2.5</td>\n",
       "      <td>2020-06-19 18:26:49</td>\n",
       "      <td>2020-06-19 18:34:53</td>\n",
       "    </tr>\n",
       "    <tr>\n",
       "      <th>44949</th>\n",
       "      <td>2.0</td>\n",
       "      <td>1.0</td>\n",
       "      <td>7.02</td>\n",
       "      <td>1.0</td>\n",
       "      <td>N</td>\n",
       "      <td>233</td>\n",
       "      <td>36</td>\n",
       "      <td>1.0</td>\n",
       "      <td>2.5</td>\n",
       "      <td>2020-06-23 09:30:56</td>\n",
       "      <td>2020-06-23 10:04:40</td>\n",
       "    </tr>\n",
       "  </tbody>\n",
       "</table>\n",
       "<p>44950 rows × 11 columns</p>\n",
       "</div>"
      ],
      "text/plain": [
       "       VendorID  passenger_count  trip_distance  RatecodeID  \\\n",
       "0           2.0              1.0           7.39         1.0   \n",
       "1           2.0              1.0           3.12         1.0   \n",
       "2           1.0              2.0          18.80         2.0   \n",
       "3           1.0              1.0           5.20         1.0   \n",
       "4           2.0              1.0          19.06         1.0   \n",
       "...         ...              ...            ...         ...   \n",
       "44945       2.0              1.0           1.08         1.0   \n",
       "44946       2.0              2.0           1.44         1.0   \n",
       "44947       1.0              1.0           6.40         1.0   \n",
       "44948       2.0              3.0           1.97         1.0   \n",
       "44949       2.0              1.0           7.02         1.0   \n",
       "\n",
       "      store_and_fwd_flag  PULocationID  DOLocationID  payment_type  \\\n",
       "0                      N           113           129           1.0   \n",
       "1                      N           140           224           1.0   \n",
       "2                      N           132            68           1.0   \n",
       "3                      N            48           116           2.0   \n",
       "4                      N            77           115           1.0   \n",
       "...                  ...           ...           ...           ...   \n",
       "44945                  N           140            43           1.0   \n",
       "44946                  N           161           143           2.0   \n",
       "44947                  N           161           116           1.0   \n",
       "44948                  N           125            68           1.0   \n",
       "44949                  N           233            36           1.0   \n",
       "\n",
       "       congestion_surcharge tpep_pickup_datetime tpep_dropoff_datetime  \n",
       "0                       2.5  2020-06-11 21:10:27   2020-06-11 21:39:42  \n",
       "1                       2.5  2020-06-23 10:28:28   2020-06-23 10:43:48  \n",
       "2                       2.5  2020-06-17 16:51:01   2020-06-17 17:27:24  \n",
       "3                       2.5  2020-06-07 14:17:39   2020-06-07 14:33:36  \n",
       "4                       0.0  2020-06-27 15:23:57   2020-06-27 15:57:13  \n",
       "...                     ...                  ...                   ...  \n",
       "44945                   2.5  2020-06-27 20:08:24   2020-06-27 20:15:20  \n",
       "44946                   2.5  2020-06-26 10:44:25   2020-06-26 10:54:13  \n",
       "44947                   2.5  2020-06-22 13:03:40   2020-06-22 13:32:33  \n",
       "44948                   2.5  2020-06-19 18:26:49   2020-06-19 18:34:53  \n",
       "44949                   2.5  2020-06-23 09:30:56   2020-06-23 10:04:40  \n",
       "\n",
       "[44950 rows x 11 columns]"
      ]
     },
     "execution_count": 5,
     "metadata": {},
     "output_type": "execute_result"
    }
   ],
   "source": [
    "x_train"
   ]
  },
  {
   "cell_type": "code",
   "execution_count": 6,
   "metadata": {},
   "outputs": [],
   "source": [
    "cat_var = ['VendorID', 'passenger_count','RatecodeID','store_and_fwd_flag', 'PULocationID', 'DOLocationID', 'payment_type']"
   ]
  },
  {
   "cell_type": "markdown",
   "metadata": {},
   "source": [
    "### Transformer to handel datetime and add time_of_ride column"
   ]
  },
  {
   "cell_type": "code",
   "execution_count": 7,
   "metadata": {},
   "outputs": [],
   "source": [
    "class DateTimeTransformer(TransformerMixin, BaseEstimator):\n",
    "    def __init__(self, fmt = '%Y-%m-%d %H:%M:%S'):\n",
    "        self.fmt = fmt\n",
    "    \n",
    "    def fit(self, X, y = None):\n",
    "        return self\n",
    "    \n",
    "    def transform(self, X, y = None):\n",
    "        a1 = X['tpep_pickup_datetime']\n",
    "        a2 = X['tpep_dropoff_datetime']\n",
    "        a1_d = pd.to_datetime(a1, format = self.fmt)\n",
    "        a2_d = pd.to_datetime(a2, format = self.fmt)\n",
    "        X['time_of_ride'] = (a2_d - a1_d).dt.total_seconds()/60\n",
    "        X = X.drop(columns = ['tpep_pickup_datetime', 'tpep_dropoff_datetime'])\n",
    "        return X"
   ]
  },
  {
   "cell_type": "code",
   "execution_count": 8,
   "metadata": {},
   "outputs": [],
   "source": [
    "class LogTransformer(TransformerMixin, BaseEstimator):\n",
    "    def __init__(self, delta = 1.0):\n",
    "        self.delta = delta\n",
    "    \n",
    "    def fit(self, X, y = None):\n",
    "        return self\n",
    "    \n",
    "    def transform(self, X, y = None):\n",
    "        return np.log(X.astype('float')+self.delta)"
   ]
  },
  {
   "cell_type": "markdown",
   "metadata": {},
   "source": [
    "### Transformer to convert ndarray to Dataframe with given columns"
   ]
  },
  {
   "cell_type": "code",
   "execution_count": 9,
   "metadata": {},
   "outputs": [],
   "source": [
    "class ColumnCombiner(TransformerMixin, BaseEstimator):\n",
    "    def __init__(self, columns = ['tpep_pickup_datetime', 'tpep_dropoff_datetime','VendorID', 'passenger_count','RatecodeID', 'store_and_fwd_flag', 'PULocationID', 'DOLocationID', 'payment_type', 'trip_distance', 'congestion_surcharge']):\n",
    "        self.columns = columns\n",
    "    \n",
    "    def fit(self, X, y = None):\n",
    "        return self\n",
    "    \n",
    "    def transform(self, X,  y = None):\n",
    "        return pd.DataFrame(X, columns = self.columns)\n",
    "        "
   ]
  },
  {
   "cell_type": "code",
   "execution_count": 10,
   "metadata": {},
   "outputs": [],
   "source": [
    "cat_var = ['VendorID', 'RatecodeID', 'PULocationID', 'DOLocationID', 'payment_type']\n",
    "cols = ['tpep_pickup_datetime', 'tpep_dropoff_datetime'] + cat_var + ['trip_distance', 'congestion_surcharge']"
   ]
  },
  {
   "cell_type": "markdown",
   "metadata": {},
   "source": [
    "### Imputer Pipeline"
   ]
  },
  {
   "cell_type": "code",
   "execution_count": 11,
   "metadata": {},
   "outputs": [],
   "source": [
    "imputer = ColumnTransformer([\n",
    "    ('datetime', SimpleImputer(strategy = 'constant', fill_value = '2020-06-23 09:30:56'), ['tpep_pickup_datetime', 'tpep_dropoff_datetime']),\n",
    "    ('mode_imputer', SimpleImputer(strategy = 'most_frequent'), cat_var),\n",
    "    ('median_imputer', SimpleImputer(strategy = 'median'), ['trip_distance', 'congestion_surcharge'])])"
   ]
  },
  {
   "cell_type": "code",
   "execution_count": 12,
   "metadata": {},
   "outputs": [],
   "source": [
    "imputer_pipeline = Pipeline([('imputer', imputer),\n",
    "                                 ('col_combine', ColumnCombiner(cols)),\n",
    "                                 ('datetime', DateTimeTransformer())])"
   ]
  },
  {
   "cell_type": "markdown",
   "metadata": {},
   "source": [
    "### Preprocessing Pipeline"
   ]
  },
  {
   "cell_type": "markdown",
   "metadata": {},
   "source": [
    "### Since PUloc and DOloc are high level catergorical features, using TargetEncoding"
   ]
  },
  {
   "cell_type": "code",
   "execution_count": 13,
   "metadata": {},
   "outputs": [],
   "source": [
    "oh = ['VendorID', 'RatecodeID', 'payment_type']\n",
    "num = ['trip_distance', 'congestion_surcharge', 'time_of_ride']"
   ]
  },
  {
   "cell_type": "code",
   "execution_count": 14,
   "metadata": {},
   "outputs": [],
   "source": [
    "preprocessing_pipeline = ColumnTransformer([('onehot', OneHotEncoder(), oh),\n",
    "                                           ('num',  RobustScaler(), num),\n",
    "                                           ('targetencoder', Pipeline([('target', TargetEncoder()),\n",
    "                                                                       ('scaling', LogTransformer())]), ['PULocationID', 'DOLocationID'])])"
   ]
  },
  {
   "cell_type": "code",
   "execution_count": 15,
   "metadata": {},
   "outputs": [],
   "source": [
    "input_pipeline = Pipeline([('imputer', imputer_pipeline),\n",
    "                           ('prepocess', preprocessing_pipeline)])"
   ]
  },
  {
   "cell_type": "code",
   "execution_count": 16,
   "metadata": {},
   "outputs": [
    {
     "name": "stderr",
     "output_type": "stream",
     "text": [
      "C:\\Users\\mayur\\anaconda3\\lib\\site-packages\\category_encoders\\utils.py:21: FutureWarning: is_categorical is deprecated and will be removed in a future version.  Use is_categorical_dtype instead\n",
      "  elif pd.api.types.is_categorical(cols):\n"
     ]
    }
   ],
   "source": [
    "data = input_pipeline.fit_transform(x_train, y_train)"
   ]
  },
  {
   "cell_type": "markdown",
   "metadata": {},
   "source": [
    "## After fiddeling with different features , the following features were removed as they did not improve the model performance\n",
    "\n",
    "#### passenger_count\n",
    "#### store_and_fwd_flag\n",
    "\n",
    "#### taxis's do not charge on the basis of number of passengers"
   ]
  },
  {
   "cell_type": "markdown",
   "metadata": {},
   "source": [
    "### Different scaling techniques were applied on the numerical columns, and RobustScaling worked the best\n",
    "### Despite the skewed nature of numerical features, log transformation ended up worsening the predictions, hence it was not applied"
   ]
  },
  {
   "cell_type": "code",
   "execution_count": null,
   "metadata": {},
   "outputs": [],
   "source": []
  },
  {
   "cell_type": "markdown",
   "metadata": {},
   "source": [
    "### GridSearchCV returned nan values constantly and hence hyperparameters were manually tuned"
   ]
  },
  {
   "cell_type": "markdown",
   "metadata": {},
   "source": [
    "## Linear Regression"
   ]
  },
  {
   "cell_type": "code",
   "execution_count": 17,
   "metadata": {},
   "outputs": [],
   "source": [
    "lr = Pipeline([('input', input_pipeline),\n",
    "               ('model', LinearRegression())])"
   ]
  },
  {
   "cell_type": "code",
   "execution_count": 18,
   "metadata": {},
   "outputs": [
    {
     "name": "stderr",
     "output_type": "stream",
     "text": [
      "C:\\Users\\mayur\\anaconda3\\lib\\site-packages\\category_encoders\\utils.py:21: FutureWarning: is_categorical is deprecated and will be removed in a future version.  Use is_categorical_dtype instead\n",
      "  elif pd.api.types.is_categorical(cols):\n"
     ]
    },
    {
     "data": {
      "text/plain": [
       "Pipeline(steps=[('input',\n",
       "                 Pipeline(steps=[('imputer',\n",
       "                                  Pipeline(steps=[('imputer',\n",
       "                                                   ColumnTransformer(transformers=[('datetime',\n",
       "                                                                                    SimpleImputer(fill_value='2020-06-23 '\n",
       "                                                                                                             '09:30:56',\n",
       "                                                                                                  strategy='constant'),\n",
       "                                                                                    ['tpep_pickup_datetime',\n",
       "                                                                                     'tpep_dropoff_datetime']),\n",
       "                                                                                   ('mode_imputer',\n",
       "                                                                                    SimpleImputer(strategy='most_frequent'),\n",
       "                                                                                    ['VendorID',\n",
       "                                                                                     'RatecodeID',\n",
       "                                                                                     'PULocationID',\n",
       "                                                                                     'DOLocationI...\n",
       "                                 ('prepocess',\n",
       "                                  ColumnTransformer(transformers=[('onehot',\n",
       "                                                                   OneHotEncoder(),\n",
       "                                                                   ['VendorID',\n",
       "                                                                    'RatecodeID',\n",
       "                                                                    'payment_type']),\n",
       "                                                                  ('num',\n",
       "                                                                   RobustScaler(),\n",
       "                                                                   ['trip_distance',\n",
       "                                                                    'congestion_surcharge',\n",
       "                                                                    'time_of_ride']),\n",
       "                                                                  ('targetencoder',\n",
       "                                                                   Pipeline(steps=[('target',\n",
       "                                                                                    TargetEncoder()),\n",
       "                                                                                   ('scaling',\n",
       "                                                                                    LogTransformer())]),\n",
       "                                                                   ['PULocationID',\n",
       "                                                                    'DOLocationID'])]))])),\n",
       "                ('model', LinearRegression())])"
      ]
     },
     "execution_count": 18,
     "metadata": {},
     "output_type": "execute_result"
    }
   ],
   "source": [
    "lr.fit(x_train, y_train)"
   ]
  },
  {
   "cell_type": "code",
   "execution_count": 19,
   "metadata": {},
   "outputs": [
    {
     "data": {
      "text/plain": [
       "0.9144806353348861"
      ]
     },
     "execution_count": 19,
     "metadata": {},
     "output_type": "execute_result"
    }
   ],
   "source": [
    "lr.score(x_val, y_val) # lasso and ridge performed worse than OLS. R^2 in OLS : 0.914"
   ]
  },
  {
   "cell_type": "code",
   "execution_count": 20,
   "metadata": {},
   "outputs": [
    {
     "data": {
      "text/plain": [
       "0.9088092363417939"
      ]
     },
     "execution_count": 20,
     "metadata": {},
     "output_type": "execute_result"
    }
   ],
   "source": [
    "lr.score(x_train, y_train)"
   ]
  },
  {
   "cell_type": "markdown",
   "metadata": {},
   "source": [
    "### LinearSVR"
   ]
  },
  {
   "cell_type": "code",
   "execution_count": 21,
   "metadata": {},
   "outputs": [],
   "source": [
    "lsvr = Pipeline([('input', input_pipeline),\n",
    "                 ('model', LinearSVR(epsilon = 1.5, C = 0.9))])"
   ]
  },
  {
   "cell_type": "code",
   "execution_count": 22,
   "metadata": {},
   "outputs": [
    {
     "name": "stderr",
     "output_type": "stream",
     "text": [
      "C:\\Users\\mayur\\anaconda3\\lib\\site-packages\\category_encoders\\utils.py:21: FutureWarning: is_categorical is deprecated and will be removed in a future version.  Use is_categorical_dtype instead\n",
      "  elif pd.api.types.is_categorical(cols):\n"
     ]
    },
    {
     "data": {
      "text/plain": [
       "Pipeline(steps=[('input',\n",
       "                 Pipeline(steps=[('imputer',\n",
       "                                  Pipeline(steps=[('imputer',\n",
       "                                                   ColumnTransformer(transformers=[('datetime',\n",
       "                                                                                    SimpleImputer(fill_value='2020-06-23 '\n",
       "                                                                                                             '09:30:56',\n",
       "                                                                                                  strategy='constant'),\n",
       "                                                                                    ['tpep_pickup_datetime',\n",
       "                                                                                     'tpep_dropoff_datetime']),\n",
       "                                                                                   ('mode_imputer',\n",
       "                                                                                    SimpleImputer(strategy='most_frequent'),\n",
       "                                                                                    ['VendorID',\n",
       "                                                                                     'RatecodeID',\n",
       "                                                                                     'PULocationID',\n",
       "                                                                                     'DOLocationI...\n",
       "                                 ('prepocess',\n",
       "                                  ColumnTransformer(transformers=[('onehot',\n",
       "                                                                   OneHotEncoder(),\n",
       "                                                                   ['VendorID',\n",
       "                                                                    'RatecodeID',\n",
       "                                                                    'payment_type']),\n",
       "                                                                  ('num',\n",
       "                                                                   RobustScaler(),\n",
       "                                                                   ['trip_distance',\n",
       "                                                                    'congestion_surcharge',\n",
       "                                                                    'time_of_ride']),\n",
       "                                                                  ('targetencoder',\n",
       "                                                                   Pipeline(steps=[('target',\n",
       "                                                                                    TargetEncoder()),\n",
       "                                                                                   ('scaling',\n",
       "                                                                                    LogTransformer())]),\n",
       "                                                                   ['PULocationID',\n",
       "                                                                    'DOLocationID'])]))])),\n",
       "                ('model', LinearSVR(C=0.9, epsilon=1.5))])"
      ]
     },
     "execution_count": 22,
     "metadata": {},
     "output_type": "execute_result"
    }
   ],
   "source": [
    "lsvr.fit(x_train, y_train)"
   ]
  },
  {
   "cell_type": "code",
   "execution_count": 23,
   "metadata": {},
   "outputs": [
    {
     "data": {
      "text/plain": [
       "0.9122696971015487"
      ]
     },
     "execution_count": 23,
     "metadata": {},
     "output_type": "execute_result"
    }
   ],
   "source": [
    "lsvr.score(x_val, y_val) # 0.9123"
   ]
  },
  {
   "cell_type": "code",
   "execution_count": 24,
   "metadata": {},
   "outputs": [
    {
     "data": {
      "text/plain": [
       "0.9031922686925448"
      ]
     },
     "execution_count": 24,
     "metadata": {},
     "output_type": "execute_result"
    }
   ],
   "source": [
    "lsvr.score(x_train, y_train)"
   ]
  },
  {
   "cell_type": "markdown",
   "metadata": {},
   "source": [
    "### Random Forest"
   ]
  },
  {
   "cell_type": "code",
   "execution_count": 34,
   "metadata": {},
   "outputs": [],
   "source": [
    "rfr = Pipeline([('input', input_pipeline), \n",
    "                ('model', RandomForestRegressor(max_depth = 7))])"
   ]
  },
  {
   "cell_type": "code",
   "execution_count": 1377,
   "metadata": {},
   "outputs": [
    {
     "name": "stderr",
     "output_type": "stream",
     "text": [
      "C:\\Users\\mayur\\anaconda3\\lib\\site-packages\\category_encoders\\utils.py:21: FutureWarning: is_categorical is deprecated and will be removed in a future version.  Use is_categorical_dtype instead\n",
      "  elif pd.api.types.is_categorical(cols):\n"
     ]
    },
    {
     "data": {
      "text/plain": [
       "Pipeline(steps=[('input',\n",
       "                 Pipeline(steps=[('imputer',\n",
       "                                  Pipeline(steps=[('imputer',\n",
       "                                                   ColumnTransformer(transformers=[('datetime',\n",
       "                                                                                    SimpleImputer(fill_value='2020-06-23 '\n",
       "                                                                                                             '09:30:56',\n",
       "                                                                                                  strategy='constant'),\n",
       "                                                                                    ['tpep_pickup_datetime',\n",
       "                                                                                     'tpep_dropoff_datetime']),\n",
       "                                                                                   ('mode_imputer',\n",
       "                                                                                    SimpleImputer(strategy='most_frequent'),\n",
       "                                                                                    ['VendorID',\n",
       "                                                                                     'RatecodeID',\n",
       "                                                                                     'PULocationID',\n",
       "                                                                                     'DOLocationI...\n",
       "                                  ColumnTransformer(transformers=[('onehot',\n",
       "                                                                   OneHotEncoder(),\n",
       "                                                                   ['VendorID',\n",
       "                                                                    'RatecodeID',\n",
       "                                                                    'payment_type']),\n",
       "                                                                  ('num',\n",
       "                                                                   RobustScaler(),\n",
       "                                                                   ['trip_distance',\n",
       "                                                                    'congestion_surcharge',\n",
       "                                                                    'time_of_ride']),\n",
       "                                                                  ('targetencoder',\n",
       "                                                                   Pipeline(steps=[('target',\n",
       "                                                                                    TargetEncoder()),\n",
       "                                                                                   ('scaling',\n",
       "                                                                                    LogTransformer())]),\n",
       "                                                                   ['PULocationID',\n",
       "                                                                    'DOLocationID'])]))])),\n",
       "                ('model', RandomForestRegressor(max_depth=7))])"
      ]
     },
     "execution_count": 1377,
     "metadata": {},
     "output_type": "execute_result"
    }
   ],
   "source": [
    "rfr.fit(x_train, y_train)"
   ]
  },
  {
   "cell_type": "code",
   "execution_count": 1378,
   "metadata": {},
   "outputs": [
    {
     "data": {
      "text/plain": [
       "0.9253496142952654"
      ]
     },
     "execution_count": 1378,
     "metadata": {},
     "output_type": "execute_result"
    }
   ],
   "source": [
    "rfr.score(x_val, y_val) # 0.926"
   ]
  },
  {
   "cell_type": "code",
   "execution_count": 1379,
   "metadata": {},
   "outputs": [
    {
     "data": {
      "text/plain": [
       "0.9404882544158479"
      ]
     },
     "execution_count": 1379,
     "metadata": {},
     "output_type": "execute_result"
    }
   ],
   "source": [
    "rfr.score(x_train, y_train) # 0.94"
   ]
  },
  {
   "cell_type": "markdown",
   "metadata": {},
   "source": [
    "### GradientBoostedTrees"
   ]
  },
  {
   "cell_type": "code",
   "execution_count": 25,
   "metadata": {},
   "outputs": [],
   "source": [
    "gbr = Pipeline([('input', input_pipeline), \n",
    "                ('model', GradientBoostingRegressor(max_depth = 5))])"
   ]
  },
  {
   "cell_type": "code",
   "execution_count": 26,
   "metadata": {},
   "outputs": [
    {
     "name": "stderr",
     "output_type": "stream",
     "text": [
      "C:\\Users\\mayur\\anaconda3\\lib\\site-packages\\category_encoders\\utils.py:21: FutureWarning: is_categorical is deprecated and will be removed in a future version.  Use is_categorical_dtype instead\n",
      "  elif pd.api.types.is_categorical(cols):\n"
     ]
    },
    {
     "data": {
      "text/plain": [
       "Pipeline(steps=[('input',\n",
       "                 Pipeline(steps=[('imputer',\n",
       "                                  Pipeline(steps=[('imputer',\n",
       "                                                   ColumnTransformer(transformers=[('datetime',\n",
       "                                                                                    SimpleImputer(fill_value='2020-06-23 '\n",
       "                                                                                                             '09:30:56',\n",
       "                                                                                                  strategy='constant'),\n",
       "                                                                                    ['tpep_pickup_datetime',\n",
       "                                                                                     'tpep_dropoff_datetime']),\n",
       "                                                                                   ('mode_imputer',\n",
       "                                                                                    SimpleImputer(strategy='most_frequent'),\n",
       "                                                                                    ['VendorID',\n",
       "                                                                                     'RatecodeID',\n",
       "                                                                                     'PULocationID',\n",
       "                                                                                     'DOLocationI...\n",
       "                                  ColumnTransformer(transformers=[('onehot',\n",
       "                                                                   OneHotEncoder(),\n",
       "                                                                   ['VendorID',\n",
       "                                                                    'RatecodeID',\n",
       "                                                                    'payment_type']),\n",
       "                                                                  ('num',\n",
       "                                                                   RobustScaler(),\n",
       "                                                                   ['trip_distance',\n",
       "                                                                    'congestion_surcharge',\n",
       "                                                                    'time_of_ride']),\n",
       "                                                                  ('targetencoder',\n",
       "                                                                   Pipeline(steps=[('target',\n",
       "                                                                                    TargetEncoder()),\n",
       "                                                                                   ('scaling',\n",
       "                                                                                    LogTransformer())]),\n",
       "                                                                   ['PULocationID',\n",
       "                                                                    'DOLocationID'])]))])),\n",
       "                ('model', GradientBoostingRegressor(max_depth=5))])"
      ]
     },
     "execution_count": 26,
     "metadata": {},
     "output_type": "execute_result"
    }
   ],
   "source": [
    "gbr.fit(x_train, y_train)"
   ]
  },
  {
   "cell_type": "code",
   "execution_count": 27,
   "metadata": {},
   "outputs": [
    {
     "data": {
      "text/plain": [
       "0.9329367667886413"
      ]
     },
     "execution_count": 27,
     "metadata": {},
     "output_type": "execute_result"
    }
   ],
   "source": [
    "gbr.score(x_val, y_val) # 0.932"
   ]
  },
  {
   "cell_type": "code",
   "execution_count": 28,
   "metadata": {},
   "outputs": [
    {
     "data": {
      "text/plain": [
       "0.957241242146941"
      ]
     },
     "execution_count": 28,
     "metadata": {},
     "output_type": "execute_result"
    }
   ],
   "source": [
    "gbr.score(x_train, y_train) # 0.957"
   ]
  },
  {
   "cell_type": "markdown",
   "metadata": {},
   "source": [
    "\n"
   ]
  },
  {
   "cell_type": "markdown",
   "metadata": {},
   "source": [
    "### Adaboost"
   ]
  },
  {
   "cell_type": "code",
   "execution_count": 29,
   "metadata": {},
   "outputs": [],
   "source": [
    "ab = Pipeline([('input', input_pipeline),\n",
    "                ('model', AdaBoostRegressor(DecisionTreeRegressor(max_depth = 7)))])"
   ]
  },
  {
   "cell_type": "code",
   "execution_count": 30,
   "metadata": {},
   "outputs": [
    {
     "name": "stderr",
     "output_type": "stream",
     "text": [
      "C:\\Users\\mayur\\anaconda3\\lib\\site-packages\\category_encoders\\utils.py:21: FutureWarning: is_categorical is deprecated and will be removed in a future version.  Use is_categorical_dtype instead\n",
      "  elif pd.api.types.is_categorical(cols):\n"
     ]
    },
    {
     "data": {
      "text/plain": [
       "Pipeline(steps=[('input',\n",
       "                 Pipeline(steps=[('imputer',\n",
       "                                  Pipeline(steps=[('imputer',\n",
       "                                                   ColumnTransformer(transformers=[('datetime',\n",
       "                                                                                    SimpleImputer(fill_value='2020-06-23 '\n",
       "                                                                                                             '09:30:56',\n",
       "                                                                                                  strategy='constant'),\n",
       "                                                                                    ['tpep_pickup_datetime',\n",
       "                                                                                     'tpep_dropoff_datetime']),\n",
       "                                                                                   ('mode_imputer',\n",
       "                                                                                    SimpleImputer(strategy='most_frequent'),\n",
       "                                                                                    ['VendorID',\n",
       "                                                                                     'RatecodeID',\n",
       "                                                                                     'PULocationID',\n",
       "                                                                                     'DOLocationI...\n",
       "                                  ColumnTransformer(transformers=[('onehot',\n",
       "                                                                   OneHotEncoder(),\n",
       "                                                                   ['VendorID',\n",
       "                                                                    'RatecodeID',\n",
       "                                                                    'payment_type']),\n",
       "                                                                  ('num',\n",
       "                                                                   RobustScaler(),\n",
       "                                                                   ['trip_distance',\n",
       "                                                                    'congestion_surcharge',\n",
       "                                                                    'time_of_ride']),\n",
       "                                                                  ('targetencoder',\n",
       "                                                                   Pipeline(steps=[('target',\n",
       "                                                                                    TargetEncoder()),\n",
       "                                                                                   ('scaling',\n",
       "                                                                                    LogTransformer())]),\n",
       "                                                                   ['PULocationID',\n",
       "                                                                    'DOLocationID'])]))])),\n",
       "                ('model',\n",
       "                 AdaBoostRegressor(base_estimator=DecisionTreeRegressor(max_depth=7)))])"
      ]
     },
     "execution_count": 30,
     "metadata": {},
     "output_type": "execute_result"
    }
   ],
   "source": [
    "ab.fit(x_train, y_train)"
   ]
  },
  {
   "cell_type": "code",
   "execution_count": 31,
   "metadata": {},
   "outputs": [
    {
     "data": {
      "text/plain": [
       "0.8777974854348529"
      ]
     },
     "execution_count": 31,
     "metadata": {},
     "output_type": "execute_result"
    }
   ],
   "source": [
    "ab.score(x_val, y_val) # 0.894"
   ]
  },
  {
   "cell_type": "code",
   "execution_count": 32,
   "metadata": {},
   "outputs": [
    {
     "data": {
      "text/plain": [
       "0.9070948318796084"
      ]
     },
     "execution_count": 32,
     "metadata": {},
     "output_type": "execute_result"
    }
   ],
   "source": [
    "ab.score(x_train, y_train) # 0.92"
   ]
  },
  {
   "cell_type": "markdown",
   "metadata": {},
   "source": [
    "### VotingRegressor"
   ]
  },
  {
   "cell_type": "code",
   "execution_count": 35,
   "metadata": {},
   "outputs": [],
   "source": [
    "vr = VotingRegressor([('lr', clone(lr)), ('lsvr', clone(lsvr)), ('rfr', clone(rfr)), ('gbr', clone(gbr))])"
   ]
  },
  {
   "cell_type": "code",
   "execution_count": 36,
   "metadata": {},
   "outputs": [
    {
     "name": "stderr",
     "output_type": "stream",
     "text": [
      "C:\\Users\\mayur\\anaconda3\\lib\\site-packages\\category_encoders\\utils.py:21: FutureWarning: is_categorical is deprecated and will be removed in a future version.  Use is_categorical_dtype instead\n",
      "  elif pd.api.types.is_categorical(cols):\n",
      "C:\\Users\\mayur\\anaconda3\\lib\\site-packages\\category_encoders\\utils.py:21: FutureWarning: is_categorical is deprecated and will be removed in a future version.  Use is_categorical_dtype instead\n",
      "  elif pd.api.types.is_categorical(cols):\n",
      "C:\\Users\\mayur\\anaconda3\\lib\\site-packages\\category_encoders\\utils.py:21: FutureWarning: is_categorical is deprecated and will be removed in a future version.  Use is_categorical_dtype instead\n",
      "  elif pd.api.types.is_categorical(cols):\n",
      "C:\\Users\\mayur\\anaconda3\\lib\\site-packages\\category_encoders\\utils.py:21: FutureWarning: is_categorical is deprecated and will be removed in a future version.  Use is_categorical_dtype instead\n",
      "  elif pd.api.types.is_categorical(cols):\n"
     ]
    },
    {
     "data": {
      "text/plain": [
       "VotingRegressor(estimators=[('lr',\n",
       "                             Pipeline(steps=[('input',\n",
       "                                              Pipeline(steps=[('imputer',\n",
       "                                                               Pipeline(steps=[('imputer',\n",
       "                                                                                ColumnTransformer(transformers=[('datetime',\n",
       "                                                                                                                 SimpleImputer(fill_value='2020-06-23 '\n",
       "                                                                                                                                          '09:30:56',\n",
       "                                                                                                                               strategy='constant'),\n",
       "                                                                                                                 ['tpep_pickup_datetime',\n",
       "                                                                                                                  'tpep_dropoff_datetime']),\n",
       "                                                                                                                ('mode_imputer',\n",
       "                                                                                                                 SimpleImputer(strategy='most_frequent'),\n",
       "                                                                                                                 ['VendorID',\n",
       "                                                                                                                  'Ratec...\n",
       "                                                               ColumnTransformer(transformers=[('onehot',\n",
       "                                                                                                OneHotEncoder(),\n",
       "                                                                                                ['VendorID',\n",
       "                                                                                                 'RatecodeID',\n",
       "                                                                                                 'payment_type']),\n",
       "                                                                                               ('num',\n",
       "                                                                                                RobustScaler(),\n",
       "                                                                                                ['trip_distance',\n",
       "                                                                                                 'congestion_surcharge',\n",
       "                                                                                                 'time_of_ride']),\n",
       "                                                                                               ('targetencoder',\n",
       "                                                                                                Pipeline(steps=[('target',\n",
       "                                                                                                                 TargetEncoder()),\n",
       "                                                                                                                ('scaling',\n",
       "                                                                                                                 LogTransformer())]),\n",
       "                                                                                                ['PULocationID',\n",
       "                                                                                                 'DOLocationID'])]))])),\n",
       "                                             ('model',\n",
       "                                              GradientBoostingRegressor(max_depth=5))]))])"
      ]
     },
     "execution_count": 36,
     "metadata": {},
     "output_type": "execute_result"
    }
   ],
   "source": [
    "vr.fit(x_train, y_train)"
   ]
  },
  {
   "cell_type": "code",
   "execution_count": 37,
   "metadata": {},
   "outputs": [
    {
     "data": {
      "text/plain": [
       "0.9286356911695688"
      ]
     },
     "execution_count": 37,
     "metadata": {},
     "output_type": "execute_result"
    }
   ],
   "source": [
    "vr.score(x_val,y_val)"
   ]
  },
  {
   "cell_type": "code",
   "execution_count": 38,
   "metadata": {},
   "outputs": [
    {
     "data": {
      "text/plain": [
       "0.9369275564861624"
      ]
     },
     "execution_count": 38,
     "metadata": {},
     "output_type": "execute_result"
    }
   ],
   "source": [
    "vr.score(x_train, y_train)"
   ]
  },
  {
   "cell_type": "markdown",
   "metadata": {},
   "source": [
    "### Neural Network"
   ]
  },
  {
   "cell_type": "code",
   "execution_count": 39,
   "metadata": {},
   "outputs": [],
   "source": [
    "def rsquared(true, pred):\n",
    "    y_bar = np.mean(true)\n",
    "    ssres = ((true - pred)**2).sum()\n",
    "    sstot = ((true-y_bar)**2).sum()\n",
    "    return 1 - ssres/sstot\n",
    "    \n",
    "    "
   ]
  },
  {
   "cell_type": "code",
   "execution_count": 40,
   "metadata": {},
   "outputs": [
    {
     "name": "stderr",
     "output_type": "stream",
     "text": [
      "C:\\Users\\mayur\\anaconda3\\lib\\site-packages\\category_encoders\\utils.py:21: FutureWarning: is_categorical is deprecated and will be removed in a future version.  Use is_categorical_dtype instead\n",
      "  elif pd.api.types.is_categorical(cols):\n"
     ]
    }
   ],
   "source": [
    "train_data = input_pipeline.fit_transform(x_train, y_train)\n",
    "val_data = input_pipeline.transform(x_val)"
   ]
  },
  {
   "cell_type": "code",
   "execution_count": 41,
   "metadata": {},
   "outputs": [],
   "source": [
    "model = keras.Sequential([keras.layers.Dense(50, activation = 'relu'),\n",
    "                          keras.layers.Dense(50, activation = 'relu'),\n",
    "                          keras.layers.Dense(1)])"
   ]
  },
  {
   "cell_type": "code",
   "execution_count": 42,
   "metadata": {},
   "outputs": [],
   "source": [
    "model.compile(optimizer = keras.optimizers.Adam(), loss = keras.losses.MeanSquaredError(), metrics = ['mse'])"
   ]
  },
  {
   "cell_type": "code",
   "execution_count": 43,
   "metadata": {},
   "outputs": [],
   "source": [
    "es = keras.callbacks.EarlyStopping(patience = 10, restore_best_weights = True)\n",
    "lrs = keras.callbacks.ReduceLROnPlateau(patience = 5, factor = 0.5)"
   ]
  },
  {
   "cell_type": "code",
   "execution_count": 44,
   "metadata": {},
   "outputs": [
    {
     "name": "stdout",
     "output_type": "stream",
     "text": [
      "Epoch 1/100\n",
      "1405/1405 [==============================] - 5s 3ms/step - loss: 36.1933 - mse: 36.1933 - val_loss: 15.1505 - val_mse: 15.1505\n",
      "Epoch 2/100\n",
      "1405/1405 [==============================] - 3s 2ms/step - loss: 15.6509 - mse: 15.6509 - val_loss: 14.0706 - val_mse: 14.0706\n",
      "Epoch 3/100\n",
      "1405/1405 [==============================] - 3s 2ms/step - loss: 14.5554 - mse: 14.5554 - val_loss: 13.6332 - val_mse: 13.6332\n",
      "Epoch 4/100\n",
      "1405/1405 [==============================] - 3s 2ms/step - loss: 13.8769 - mse: 13.8769 - val_loss: 13.0479 - val_mse: 13.0479\n",
      "Epoch 5/100\n",
      "1405/1405 [==============================] - 3s 2ms/step - loss: 13.4606 - mse: 13.4606 - val_loss: 12.6482 - val_mse: 12.6482\n",
      "Epoch 6/100\n",
      "1405/1405 [==============================] - 4s 2ms/step - loss: 13.0178 - mse: 13.0178 - val_loss: 13.0697 - val_mse: 13.0697\n",
      "Epoch 7/100\n",
      "1405/1405 [==============================] - 3s 2ms/step - loss: 12.9692 - mse: 12.9692 - val_loss: 12.4197 - val_mse: 12.4197\n",
      "Epoch 8/100\n",
      "1405/1405 [==============================] - 3s 2ms/step - loss: 12.7936 - mse: 12.7936 - val_loss: 12.8313 - val_mse: 12.8313\n",
      "Epoch 9/100\n",
      "1405/1405 [==============================] - 4s 3ms/step - loss: 12.9580 - mse: 12.9580 - val_loss: 12.6268 - val_mse: 12.6268\n",
      "Epoch 10/100\n",
      "1405/1405 [==============================] - 4s 3ms/step - loss: 12.7724 - mse: 12.7724 - val_loss: 11.9801 - val_mse: 11.9801\n",
      "Epoch 11/100\n",
      "1405/1405 [==============================] - 4s 3ms/step - loss: 12.6818 - mse: 12.6818 - val_loss: 11.9208 - val_mse: 11.9208\n",
      "Epoch 12/100\n",
      "1405/1405 [==============================] - 4s 3ms/step - loss: 12.6759 - mse: 12.6759 - val_loss: 11.9262 - val_mse: 11.9262\n",
      "Epoch 13/100\n",
      "1405/1405 [==============================] - 4s 2ms/step - loss: 12.5390 - mse: 12.5390 - val_loss: 11.8682 - val_mse: 11.8682\n",
      "Epoch 14/100\n",
      "1405/1405 [==============================] - 4s 2ms/step - loss: 12.7148 - mse: 12.7148 - val_loss: 12.5780 - val_mse: 12.5780\n",
      "Epoch 15/100\n",
      "1405/1405 [==============================] - 4s 3ms/step - loss: 12.6695 - mse: 12.6695 - val_loss: 11.7710 - val_mse: 11.7710\n",
      "Epoch 16/100\n",
      "1405/1405 [==============================] - 4s 3ms/step - loss: 12.5350 - mse: 12.5350 - val_loss: 11.9385 - val_mse: 11.9385\n",
      "Epoch 17/100\n",
      "1405/1405 [==============================] - 4s 3ms/step - loss: 12.5336 - mse: 12.5336 - val_loss: 12.0503 - val_mse: 12.0503\n",
      "Epoch 18/100\n",
      "1405/1405 [==============================] - 4s 3ms/step - loss: 12.4441 - mse: 12.4441 - val_loss: 11.7947 - val_mse: 11.7947\n",
      "Epoch 19/100\n",
      "1405/1405 [==============================] - 4s 3ms/step - loss: 12.3592 - mse: 12.3592 - val_loss: 12.5396 - val_mse: 12.5396\n",
      "Epoch 20/100\n",
      "1405/1405 [==============================] - 4s 2ms/step - loss: 12.5055 - mse: 12.5055 - val_loss: 12.0141 - val_mse: 12.0141\n",
      "Epoch 21/100\n",
      "1405/1405 [==============================] - 4s 3ms/step - loss: 12.0438 - mse: 12.0438 - val_loss: 11.9298 - val_mse: 11.9298\n",
      "Epoch 22/100\n",
      "1405/1405 [==============================] - 3s 2ms/step - loss: 12.0546 - mse: 12.0546 - val_loss: 11.9769 - val_mse: 11.9769\n",
      "Epoch 23/100\n",
      "1405/1405 [==============================] - 4s 3ms/step - loss: 11.9611 - mse: 11.9611 - val_loss: 11.6202 - val_mse: 11.6202\n",
      "Epoch 24/100\n",
      "1405/1405 [==============================] - 4s 3ms/step - loss: 12.0252 - mse: 12.0252 - val_loss: 11.7770 - val_mse: 11.7770\n",
      "Epoch 25/100\n",
      "1405/1405 [==============================] - 4s 3ms/step - loss: 11.9048 - mse: 11.9048 - val_loss: 12.7538 - val_mse: 12.7538\n",
      "Epoch 26/100\n",
      "1405/1405 [==============================] - 4s 3ms/step - loss: 11.9407 - mse: 11.9407 - val_loss: 11.6575 - val_mse: 11.6575\n",
      "Epoch 27/100\n",
      "1405/1405 [==============================] - 4s 3ms/step - loss: 11.9108 - mse: 11.9108 - val_loss: 11.7916 - val_mse: 11.7916\n",
      "Epoch 28/100\n",
      "1405/1405 [==============================] - 4s 3ms/step - loss: 11.9090 - mse: 11.9090 - val_loss: 11.6595 - val_mse: 11.6595\n",
      "Epoch 29/100\n",
      "1405/1405 [==============================] - 4s 3ms/step - loss: 11.7266 - mse: 11.7266 - val_loss: 11.7766 - val_mse: 11.7766\n",
      "Epoch 30/100\n",
      "1405/1405 [==============================] - 4s 3ms/step - loss: 11.7299 - mse: 11.7299 - val_loss: 11.7245 - val_mse: 11.7245\n",
      "Epoch 31/100\n",
      "1405/1405 [==============================] - 4s 3ms/step - loss: 11.6912 - mse: 11.6912 - val_loss: 11.6914 - val_mse: 11.6914\n",
      "Epoch 32/100\n",
      "1405/1405 [==============================] - 4s 3ms/step - loss: 11.7254 - mse: 11.7254 - val_loss: 11.6256 - val_mse: 11.6256\n",
      "Epoch 33/100\n",
      "1405/1405 [==============================] - 4s 3ms/step - loss: 11.7093 - mse: 11.7093 - val_loss: 11.6193 - val_mse: 11.6193\n",
      "Epoch 34/100\n",
      "1405/1405 [==============================] - 4s 3ms/step - loss: 11.6808 - mse: 11.6808 - val_loss: 11.6318 - val_mse: 11.6318\n",
      "Epoch 35/100\n",
      "1405/1405 [==============================] - 4s 2ms/step - loss: 11.6367 - mse: 11.6367 - val_loss: 11.6146 - val_mse: 11.6146\n",
      "Epoch 36/100\n",
      "1405/1405 [==============================] - 4s 2ms/step - loss: 11.6732 - mse: 11.6732 - val_loss: 11.5731 - val_mse: 11.5731\n",
      "Epoch 37/100\n",
      "1405/1405 [==============================] - 3s 2ms/step - loss: 11.6518 - mse: 11.6518 - val_loss: 11.5351 - val_mse: 11.5351\n",
      "Epoch 38/100\n",
      "1405/1405 [==============================] - 3s 2ms/step - loss: 11.6702 - mse: 11.6702 - val_loss: 11.6413 - val_mse: 11.6413\n",
      "Epoch 39/100\n",
      "1405/1405 [==============================] - 4s 3ms/step - loss: 11.5909 - mse: 11.5909 - val_loss: 11.5924 - val_mse: 11.5924\n",
      "Epoch 40/100\n",
      "1405/1405 [==============================] - 3s 2ms/step - loss: 11.6237 - mse: 11.6237 - val_loss: 11.6969 - val_mse: 11.6969\n",
      "Epoch 41/100\n",
      "1405/1405 [==============================] - 3s 2ms/step - loss: 11.5860 - mse: 11.5860 - val_loss: 11.8198 - val_mse: 11.8198\n",
      "Epoch 42/100\n",
      "1405/1405 [==============================] - 4s 3ms/step - loss: 11.5772 - mse: 11.5772 - val_loss: 11.5858 - val_mse: 11.5858\n",
      "Epoch 43/100\n",
      "1405/1405 [==============================] - 3s 2ms/step - loss: 11.4934 - mse: 11.4934 - val_loss: 11.5893 - val_mse: 11.5893\n",
      "Epoch 44/100\n",
      "1405/1405 [==============================] - 4s 3ms/step - loss: 11.4999 - mse: 11.4999 - val_loss: 11.5554 - val_mse: 11.5554\n",
      "Epoch 45/100\n",
      "1405/1405 [==============================] - 4s 3ms/step - loss: 11.4962 - mse: 11.4962 - val_loss: 11.5630 - val_mse: 11.5630\n",
      "Epoch 46/100\n",
      "1405/1405 [==============================] - 4s 3ms/step - loss: 11.4736 - mse: 11.4736 - val_loss: 11.7086 - val_mse: 11.7086\n",
      "Epoch 47/100\n",
      "1405/1405 [==============================] - 4s 3ms/step - loss: 11.4564 - mse: 11.4564 - val_loss: 11.6509 - val_mse: 11.6509\n"
     ]
    },
    {
     "data": {
      "text/plain": [
       "<tensorflow.python.keras.callbacks.History at 0x1e50129c760>"
      ]
     },
     "execution_count": 44,
     "metadata": {},
     "output_type": "execute_result"
    }
   ],
   "source": [
    "model.fit(train_data, y_train, validation_data = (val_data, y_val), epochs = 100, callbacks = [lrs, es])"
   ]
  },
  {
   "cell_type": "code",
   "execution_count": 46,
   "metadata": {},
   "outputs": [],
   "source": [
    "preds = model.predict(val_data)"
   ]
  },
  {
   "cell_type": "code",
   "execution_count": 47,
   "metadata": {},
   "outputs": [
    {
     "data": {
      "text/plain": [
       "array([ 8.084505,  7.468577, 33.350853, ...,  8.389307,  9.060718,\n",
       "       10.137676], dtype=float32)"
      ]
     },
     "execution_count": 47,
     "metadata": {},
     "output_type": "execute_result"
    }
   ],
   "source": [
    "preds[:, 0]"
   ]
  },
  {
   "cell_type": "code",
   "execution_count": 48,
   "metadata": {},
   "outputs": [
    {
     "data": {
      "text/plain": [
       "0.9328178576170735"
      ]
     },
     "execution_count": 48,
     "metadata": {},
     "output_type": "execute_result"
    }
   ],
   "source": [
    "rsquared(y_val, preds[:, 0]) # 0.9325"
   ]
  },
  {
   "cell_type": "code",
   "execution_count": 49,
   "metadata": {},
   "outputs": [],
   "source": [
    "preds_train = model.predict(train_data)"
   ]
  },
  {
   "cell_type": "code",
   "execution_count": 50,
   "metadata": {},
   "outputs": [
    {
     "data": {
      "text/plain": [
       "0.9320681400501568"
      ]
     },
     "execution_count": 50,
     "metadata": {},
     "output_type": "execute_result"
    }
   ],
   "source": [
    "rsquared(y_train, preds_train[:, 0])"
   ]
  },
  {
   "cell_type": "markdown",
   "metadata": {},
   "source": [
    "## overall Gradient Boosting Regressor performed the best"
   ]
  },
  {
   "cell_type": "code",
   "execution_count": 1274,
   "metadata": {},
   "outputs": [],
   "source": [
    "def load_data():\n",
    "    train = pd.read_csv('train_data_iitm.csv')\n",
    "    test = pd.read_csv('test_data_iitm.csv')\n",
    "    tmz = pd.read_csv('taxi_zone_mapping.csv')\n",
    "    return train, test, tmz"
   ]
  },
  {
   "cell_type": "code",
   "execution_count": 1275,
   "metadata": {},
   "outputs": [],
   "source": [
    "train, test, tmz = load_data()"
   ]
  },
  {
   "cell_type": "code",
   "execution_count": 1402,
   "metadata": {},
   "outputs": [],
   "source": [
    "testing_data = test[x_train.columns]"
   ]
  },
  {
   "cell_type": "code",
   "execution_count": 1404,
   "metadata": {},
   "outputs": [],
   "source": [
    "test_preds = gbr.predict(testing_data)"
   ]
  },
  {
   "cell_type": "code",
   "execution_count": 1407,
   "metadata": {},
   "outputs": [],
   "source": [
    "test['fare_amount'] = test_preds"
   ]
  },
  {
   "cell_type": "code",
   "execution_count": 1408,
   "metadata": {},
   "outputs": [
    {
     "data": {
      "text/html": [
       "<div>\n",
       "<style scoped>\n",
       "    .dataframe tbody tr th:only-of-type {\n",
       "        vertical-align: middle;\n",
       "    }\n",
       "\n",
       "    .dataframe tbody tr th {\n",
       "        vertical-align: top;\n",
       "    }\n",
       "\n",
       "    .dataframe thead th {\n",
       "        text-align: right;\n",
       "    }\n",
       "</style>\n",
       "<table border=\"1\" class=\"dataframe\">\n",
       "  <thead>\n",
       "    <tr style=\"text-align: right;\">\n",
       "      <th></th>\n",
       "      <th>VendorID</th>\n",
       "      <th>tpep_pickup_datetime</th>\n",
       "      <th>tpep_dropoff_datetime</th>\n",
       "      <th>passenger_count</th>\n",
       "      <th>trip_distance</th>\n",
       "      <th>RatecodeID</th>\n",
       "      <th>store_and_fwd_flag</th>\n",
       "      <th>PULocationID</th>\n",
       "      <th>DOLocationID</th>\n",
       "      <th>payment_type</th>\n",
       "      <th>congestion_surcharge</th>\n",
       "      <th>fare_amount</th>\n",
       "    </tr>\n",
       "  </thead>\n",
       "  <tbody>\n",
       "    <tr>\n",
       "      <th>0</th>\n",
       "      <td>2.0</td>\n",
       "      <td>2020-06-30 18:39:30</td>\n",
       "      <td>2020-06-30 18:45:11</td>\n",
       "      <td>1.0</td>\n",
       "      <td>1.66</td>\n",
       "      <td>1.0</td>\n",
       "      <td>N</td>\n",
       "      <td>48</td>\n",
       "      <td>90</td>\n",
       "      <td>1.0</td>\n",
       "      <td>2.5</td>\n",
       "      <td>7.295117</td>\n",
       "    </tr>\n",
       "    <tr>\n",
       "      <th>1</th>\n",
       "      <td>2.0</td>\n",
       "      <td>2020-06-27 23:16:17</td>\n",
       "      <td>2020-06-27 23:23:17</td>\n",
       "      <td>3.0</td>\n",
       "      <td>1.50</td>\n",
       "      <td>1.0</td>\n",
       "      <td>N</td>\n",
       "      <td>48</td>\n",
       "      <td>246</td>\n",
       "      <td>2.0</td>\n",
       "      <td>2.5</td>\n",
       "      <td>7.471939</td>\n",
       "    </tr>\n",
       "    <tr>\n",
       "      <th>2</th>\n",
       "      <td>1.0</td>\n",
       "      <td>2020-06-09 12:54:15</td>\n",
       "      <td>2020-06-09 13:01:25</td>\n",
       "      <td>1.0</td>\n",
       "      <td>1.90</td>\n",
       "      <td>1.0</td>\n",
       "      <td>N</td>\n",
       "      <td>237</td>\n",
       "      <td>234</td>\n",
       "      <td>1.0</td>\n",
       "      <td>2.5</td>\n",
       "      <td>7.970325</td>\n",
       "    </tr>\n",
       "    <tr>\n",
       "      <th>3</th>\n",
       "      <td>2.0</td>\n",
       "      <td>2020-06-20 09:42:39</td>\n",
       "      <td>2020-06-20 09:45:12</td>\n",
       "      <td>1.0</td>\n",
       "      <td>0.27</td>\n",
       "      <td>1.0</td>\n",
       "      <td>N</td>\n",
       "      <td>170</td>\n",
       "      <td>170</td>\n",
       "      <td>2.0</td>\n",
       "      <td>2.5</td>\n",
       "      <td>3.912693</td>\n",
       "    </tr>\n",
       "    <tr>\n",
       "      <th>4</th>\n",
       "      <td>2.0</td>\n",
       "      <td>2020-06-23 18:31:46</td>\n",
       "      <td>2020-06-23 18:48:34</td>\n",
       "      <td>2.0</td>\n",
       "      <td>4.06</td>\n",
       "      <td>1.0</td>\n",
       "      <td>N</td>\n",
       "      <td>186</td>\n",
       "      <td>238</td>\n",
       "      <td>2.0</td>\n",
       "      <td>2.5</td>\n",
       "      <td>15.301970</td>\n",
       "    </tr>\n",
       "    <tr>\n",
       "      <th>...</th>\n",
       "      <td>...</td>\n",
       "      <td>...</td>\n",
       "      <td>...</td>\n",
       "      <td>...</td>\n",
       "      <td>...</td>\n",
       "      <td>...</td>\n",
       "      <td>...</td>\n",
       "      <td>...</td>\n",
       "      <td>...</td>\n",
       "      <td>...</td>\n",
       "      <td>...</td>\n",
       "      <td>...</td>\n",
       "    </tr>\n",
       "    <tr>\n",
       "      <th>9995</th>\n",
       "      <td>1.0</td>\n",
       "      <td>2020-06-09 23:25:53</td>\n",
       "      <td>2020-06-09 23:26:01</td>\n",
       "      <td>1.0</td>\n",
       "      <td>0.00</td>\n",
       "      <td>1.0</td>\n",
       "      <td>N</td>\n",
       "      <td>74</td>\n",
       "      <td>74</td>\n",
       "      <td>3.0</td>\n",
       "      <td>0.0</td>\n",
       "      <td>0.445621</td>\n",
       "    </tr>\n",
       "    <tr>\n",
       "      <th>9996</th>\n",
       "      <td>2.0</td>\n",
       "      <td>2020-06-03 13:07:44</td>\n",
       "      <td>2020-06-03 13:11:27</td>\n",
       "      <td>1.0</td>\n",
       "      <td>0.54</td>\n",
       "      <td>1.0</td>\n",
       "      <td>N</td>\n",
       "      <td>141</td>\n",
       "      <td>237</td>\n",
       "      <td>1.0</td>\n",
       "      <td>2.5</td>\n",
       "      <td>4.615164</td>\n",
       "    </tr>\n",
       "    <tr>\n",
       "      <th>9997</th>\n",
       "      <td>2.0</td>\n",
       "      <td>2020-06-07 18:40:08</td>\n",
       "      <td>2020-06-07 18:46:23</td>\n",
       "      <td>1.0</td>\n",
       "      <td>1.14</td>\n",
       "      <td>1.0</td>\n",
       "      <td>N</td>\n",
       "      <td>41</td>\n",
       "      <td>74</td>\n",
       "      <td>1.0</td>\n",
       "      <td>0.0</td>\n",
       "      <td>7.164447</td>\n",
       "    </tr>\n",
       "    <tr>\n",
       "      <th>9998</th>\n",
       "      <td>2.0</td>\n",
       "      <td>2020-06-12 15:27:56</td>\n",
       "      <td>2020-06-12 15:42:42</td>\n",
       "      <td>1.0</td>\n",
       "      <td>2.92</td>\n",
       "      <td>1.0</td>\n",
       "      <td>N</td>\n",
       "      <td>88</td>\n",
       "      <td>65</td>\n",
       "      <td>1.0</td>\n",
       "      <td>2.5</td>\n",
       "      <td>13.077529</td>\n",
       "    </tr>\n",
       "    <tr>\n",
       "      <th>9999</th>\n",
       "      <td>2.0</td>\n",
       "      <td>2020-06-23 10:01:00</td>\n",
       "      <td>2020-06-23 10:16:01</td>\n",
       "      <td>1.0</td>\n",
       "      <td>2.89</td>\n",
       "      <td>1.0</td>\n",
       "      <td>N</td>\n",
       "      <td>161</td>\n",
       "      <td>238</td>\n",
       "      <td>1.0</td>\n",
       "      <td>2.5</td>\n",
       "      <td>12.938773</td>\n",
       "    </tr>\n",
       "  </tbody>\n",
       "</table>\n",
       "<p>10000 rows × 12 columns</p>\n",
       "</div>"
      ],
      "text/plain": [
       "      VendorID tpep_pickup_datetime tpep_dropoff_datetime  passenger_count  \\\n",
       "0          2.0  2020-06-30 18:39:30   2020-06-30 18:45:11              1.0   \n",
       "1          2.0  2020-06-27 23:16:17   2020-06-27 23:23:17              3.0   \n",
       "2          1.0  2020-06-09 12:54:15   2020-06-09 13:01:25              1.0   \n",
       "3          2.0  2020-06-20 09:42:39   2020-06-20 09:45:12              1.0   \n",
       "4          2.0  2020-06-23 18:31:46   2020-06-23 18:48:34              2.0   \n",
       "...        ...                  ...                   ...              ...   \n",
       "9995       1.0  2020-06-09 23:25:53   2020-06-09 23:26:01              1.0   \n",
       "9996       2.0  2020-06-03 13:07:44   2020-06-03 13:11:27              1.0   \n",
       "9997       2.0  2020-06-07 18:40:08   2020-06-07 18:46:23              1.0   \n",
       "9998       2.0  2020-06-12 15:27:56   2020-06-12 15:42:42              1.0   \n",
       "9999       2.0  2020-06-23 10:01:00   2020-06-23 10:16:01              1.0   \n",
       "\n",
       "      trip_distance  RatecodeID store_and_fwd_flag  PULocationID  \\\n",
       "0              1.66         1.0                  N            48   \n",
       "1              1.50         1.0                  N            48   \n",
       "2              1.90         1.0                  N           237   \n",
       "3              0.27         1.0                  N           170   \n",
       "4              4.06         1.0                  N           186   \n",
       "...             ...         ...                ...           ...   \n",
       "9995           0.00         1.0                  N            74   \n",
       "9996           0.54         1.0                  N           141   \n",
       "9997           1.14         1.0                  N            41   \n",
       "9998           2.92         1.0                  N            88   \n",
       "9999           2.89         1.0                  N           161   \n",
       "\n",
       "      DOLocationID  payment_type  congestion_surcharge  fare_amount  \n",
       "0               90           1.0                   2.5     7.295117  \n",
       "1              246           2.0                   2.5     7.471939  \n",
       "2              234           1.0                   2.5     7.970325  \n",
       "3              170           2.0                   2.5     3.912693  \n",
       "4              238           2.0                   2.5    15.301970  \n",
       "...            ...           ...                   ...          ...  \n",
       "9995            74           3.0                   0.0     0.445621  \n",
       "9996           237           1.0                   2.5     4.615164  \n",
       "9997            74           1.0                   0.0     7.164447  \n",
       "9998            65           1.0                   2.5    13.077529  \n",
       "9999           238           1.0                   2.5    12.938773  \n",
       "\n",
       "[10000 rows x 12 columns]"
      ]
     },
     "execution_count": 1408,
     "metadata": {},
     "output_type": "execute_result"
    }
   ],
   "source": [
    "test"
   ]
  },
  {
   "cell_type": "code",
   "execution_count": 1409,
   "metadata": {},
   "outputs": [],
   "source": [
    "test.to_csv('test_data_iitm_solved.csv', index = False)"
   ]
  },
  {
   "cell_type": "code",
   "execution_count": null,
   "metadata": {},
   "outputs": [],
   "source": []
  }
 ],
 "metadata": {
  "kernelspec": {
   "display_name": "Python 3",
   "language": "python",
   "name": "python3"
  },
  "language_info": {
   "codemirror_mode": {
    "name": "ipython",
    "version": 3
   },
   "file_extension": ".py",
   "mimetype": "text/x-python",
   "name": "python",
   "nbconvert_exporter": "python",
   "pygments_lexer": "ipython3",
   "version": "3.8.5"
  }
 },
 "nbformat": 4,
 "nbformat_minor": 4
}
